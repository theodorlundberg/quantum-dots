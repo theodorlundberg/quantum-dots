{
 "cells": [
  {
   "cell_type": "markdown",
   "metadata": {},
   "source": [
    "# Connect to database and experiment\n",
    "v2.1 by Theodor Lundberg"
   ]
  },
  {
   "cell_type": "code",
   "execution_count": null,
   "metadata": {},
   "outputs": [],
   "source": [
    "import os\n",
    "import qcodes as qc\n",
    "import qcodes.dataset.experiment_container as exc\n",
    "from qcodes.dataset.plotting import plot_by_id, get_data_by_id, plot_dataset\n",
    "from qcodes.dataset.data_set import load_by_run_spec, load_by_id\n",
    "from functions.qt_liveplot import QtLivePlot\n",
    "\n",
    "# define database location\n",
    "cwd = os.getcwd()\n",
    "#qc.config[\"core\"][\"db_location\"] = os.path.join(cwd, 'theosQCodesData_tunable_tunnel_coupling.db')\n",
    "\n",
    "# check what is in the database\n",
    "exc.experiments() "
   ]
  },
  {
   "cell_type": "code",
   "execution_count": 4,
   "metadata": {},
   "outputs": [
    {
     "name": "stdout",
     "output_type": "stream",
     "text": [
      "20210122 - 2x2#MOSQUITO 2S12-3 (W19)#6@D:\\Theo\\Python\\giovannisQCodesData_2x2.db\n",
      "--------------------------------------------------------------------------------\n",
      "10853-results-1-AllTopGates_topgates,multi_volt-101\n",
      "10854-results-2-B1_modv,multi_volt-35\n",
      "10855-results-3-B1_modv,multi_volt-29\n"
     ]
    }
   ],
   "source": [
    "exp_id=6 # choose most recent experiment/experiment to which data is being saved\n",
    "experiment_to_plot = exc.load_experiment(exp_id=exp_id)\n",
    "print(experiment_to_plot)"
   ]
  },
  {
   "cell_type": "markdown",
   "metadata": {},
   "source": [
    "# QtLivePlot\n",
    "Continually plots the running or most recent measurement in the 'experiment_to_plot' experiment in a seperate window."
   ]
  },
  {
   "cell_type": "code",
   "execution_count": null,
   "metadata": {},
   "outputs": [
    {
     "name": "stdout",
     "output_type": "stream",
     "text": [
      "20210122 - 2x2\n"
     ]
    }
   ],
   "source": [
    "print(exc.load_experiment(exp_id=exp_id).name) # print name of experiment\n",
    "plot = QtLivePlot(experiment = experiment_to_plot)\n",
    "plot.continuous_liveplot()"
   ]
  },
  {
   "cell_type": "code",
   "execution_count": null,
   "metadata": {},
   "outputs": [],
   "source": []
  },
  {
   "cell_type": "code",
   "execution_count": null,
   "metadata": {},
   "outputs": [],
   "source": []
  }
 ],
 "metadata": {
  "kernelspec": {
   "display_name": "Python 3",
   "language": "python",
   "name": "python3"
  },
  "language_info": {
   "codemirror_mode": {
    "name": "ipython",
    "version": 3
   },
   "file_extension": ".py",
   "mimetype": "text/x-python",
   "name": "python",
   "nbconvert_exporter": "python",
   "pygments_lexer": "ipython3",
   "version": "3.8.5"
  }
 },
 "nbformat": 4,
 "nbformat_minor": 2
}
